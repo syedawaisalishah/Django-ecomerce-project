{
  "nbformat": 4,
  "nbformat_minor": 0,
  "metadata": {
    "colab": {
      "name": "outlier using  zscore and std.ipynb",
      "provenance": [],
      "collapsed_sections": [],
      "authorship_tag": "ABX9TyNcFlXZFyep69xxMifrk60W",
      "include_colab_link": true
    },
    "kernelspec": {
      "name": "python3",
      "display_name": "Python 3"
    },
    "language_info": {
      "name": "python"
    }
  },
  "cells": [
    {
      "cell_type": "markdown",
      "metadata": {
        "id": "view-in-github",
        "colab_type": "text"
      },
      "source": [
        "<a href=\"https://colab.research.google.com/github/syedawaisalishah/Django-ecomerce-project/blob/master/outlier_using_zscore_and_std.ipynb\" target=\"_parent\"><img src=\"https://colab.research.google.com/assets/colab-badge.svg\" alt=\"Open In Colab\"/></a>"
      ]
    },
    {
      "cell_type": "code",
      "metadata": {
        "id": "i3-XyhPitBRE"
      },
      "source": [
        "import pandas as pd\n",
        "import matplotlib.pyplot as plt\n",
        "import numpy as np\n",
        "from scipy.stats import norm\n",
        "%matplotlib inline"
      ],
      "execution_count": null,
      "outputs": []
    },
    {
      "cell_type": "code",
      "metadata": {
        "id": "tICEBC1YuOHe"
      },
      "source": [
        "df=pd.read_csv('https://raw.githubusercontent.com/codebasics/py/master/ML/FeatureEngineering/2_outliers_z_score/heights.csv')"
      ],
      "execution_count": null,
      "outputs": []
    },
    {
      "cell_type": "code",
      "metadata": {
        "colab": {
          "base_uri": "https://localhost:8080/",
          "height": 419
        },
        "id": "NKSySZRCurMy",
        "outputId": "b0e4fe53-3eb2-44f5-ef68-cbb1f0a641f1"
      },
      "source": [
        "df"
      ],
      "execution_count": null,
      "outputs": [
        {
          "output_type": "execute_result",
          "data": {
            "text/html": [
              "<div>\n",
              "<style scoped>\n",
              "    .dataframe tbody tr th:only-of-type {\n",
              "        vertical-align: middle;\n",
              "    }\n",
              "\n",
              "    .dataframe tbody tr th {\n",
              "        vertical-align: top;\n",
              "    }\n",
              "\n",
              "    .dataframe thead th {\n",
              "        text-align: right;\n",
              "    }\n",
              "</style>\n",
              "<table border=\"1\" class=\"dataframe\">\n",
              "  <thead>\n",
              "    <tr style=\"text-align: right;\">\n",
              "      <th></th>\n",
              "      <th>gender</th>\n",
              "      <th>height</th>\n",
              "    </tr>\n",
              "  </thead>\n",
              "  <tbody>\n",
              "    <tr>\n",
              "      <th>0</th>\n",
              "      <td>Male</td>\n",
              "      <td>73.847017</td>\n",
              "    </tr>\n",
              "    <tr>\n",
              "      <th>1</th>\n",
              "      <td>Male</td>\n",
              "      <td>68.781904</td>\n",
              "    </tr>\n",
              "    <tr>\n",
              "      <th>2</th>\n",
              "      <td>Male</td>\n",
              "      <td>74.110105</td>\n",
              "    </tr>\n",
              "    <tr>\n",
              "      <th>3</th>\n",
              "      <td>Male</td>\n",
              "      <td>71.730978</td>\n",
              "    </tr>\n",
              "    <tr>\n",
              "      <th>4</th>\n",
              "      <td>Male</td>\n",
              "      <td>69.881796</td>\n",
              "    </tr>\n",
              "    <tr>\n",
              "      <th>...</th>\n",
              "      <td>...</td>\n",
              "      <td>...</td>\n",
              "    </tr>\n",
              "    <tr>\n",
              "      <th>9995</th>\n",
              "      <td>Female</td>\n",
              "      <td>66.172652</td>\n",
              "    </tr>\n",
              "    <tr>\n",
              "      <th>9996</th>\n",
              "      <td>Female</td>\n",
              "      <td>67.067155</td>\n",
              "    </tr>\n",
              "    <tr>\n",
              "      <th>9997</th>\n",
              "      <td>Female</td>\n",
              "      <td>63.867992</td>\n",
              "    </tr>\n",
              "    <tr>\n",
              "      <th>9998</th>\n",
              "      <td>Female</td>\n",
              "      <td>69.034243</td>\n",
              "    </tr>\n",
              "    <tr>\n",
              "      <th>9999</th>\n",
              "      <td>Female</td>\n",
              "      <td>61.944246</td>\n",
              "    </tr>\n",
              "  </tbody>\n",
              "</table>\n",
              "<p>10000 rows × 2 columns</p>\n",
              "</div>"
            ],
            "text/plain": [
              "      gender     height\n",
              "0       Male  73.847017\n",
              "1       Male  68.781904\n",
              "2       Male  74.110105\n",
              "3       Male  71.730978\n",
              "4       Male  69.881796\n",
              "...      ...        ...\n",
              "9995  Female  66.172652\n",
              "9996  Female  67.067155\n",
              "9997  Female  63.867992\n",
              "9998  Female  69.034243\n",
              "9999  Female  61.944246\n",
              "\n",
              "[10000 rows x 2 columns]"
            ]
          },
          "metadata": {
            "tags": []
          },
          "execution_count": 20
        }
      ]
    },
    {
      "cell_type": "code",
      "metadata": {
        "colab": {
          "base_uri": "https://localhost:8080/",
          "height": 297
        },
        "id": "2NRGD1cdurmD",
        "outputId": "ff2935b9-e261-49fb-b049-6ae2141b6ef2"
      },
      "source": [
        "df.describe()"
      ],
      "execution_count": null,
      "outputs": [
        {
          "output_type": "execute_result",
          "data": {
            "text/html": [
              "<div>\n",
              "<style scoped>\n",
              "    .dataframe tbody tr th:only-of-type {\n",
              "        vertical-align: middle;\n",
              "    }\n",
              "\n",
              "    .dataframe tbody tr th {\n",
              "        vertical-align: top;\n",
              "    }\n",
              "\n",
              "    .dataframe thead th {\n",
              "        text-align: right;\n",
              "    }\n",
              "</style>\n",
              "<table border=\"1\" class=\"dataframe\">\n",
              "  <thead>\n",
              "    <tr style=\"text-align: right;\">\n",
              "      <th></th>\n",
              "      <th>height</th>\n",
              "    </tr>\n",
              "  </thead>\n",
              "  <tbody>\n",
              "    <tr>\n",
              "      <th>count</th>\n",
              "      <td>10000.000000</td>\n",
              "    </tr>\n",
              "    <tr>\n",
              "      <th>mean</th>\n",
              "      <td>66.367560</td>\n",
              "    </tr>\n",
              "    <tr>\n",
              "      <th>std</th>\n",
              "      <td>3.847528</td>\n",
              "    </tr>\n",
              "    <tr>\n",
              "      <th>min</th>\n",
              "      <td>54.263133</td>\n",
              "    </tr>\n",
              "    <tr>\n",
              "      <th>25%</th>\n",
              "      <td>63.505620</td>\n",
              "    </tr>\n",
              "    <tr>\n",
              "      <th>50%</th>\n",
              "      <td>66.318070</td>\n",
              "    </tr>\n",
              "    <tr>\n",
              "      <th>75%</th>\n",
              "      <td>69.174262</td>\n",
              "    </tr>\n",
              "    <tr>\n",
              "      <th>max</th>\n",
              "      <td>78.998742</td>\n",
              "    </tr>\n",
              "  </tbody>\n",
              "</table>\n",
              "</div>"
            ],
            "text/plain": [
              "             height\n",
              "count  10000.000000\n",
              "mean      66.367560\n",
              "std        3.847528\n",
              "min       54.263133\n",
              "25%       63.505620\n",
              "50%       66.318070\n",
              "75%       69.174262\n",
              "max       78.998742"
            ]
          },
          "metadata": {
            "tags": []
          },
          "execution_count": 21
        }
      ]
    },
    {
      "cell_type": "code",
      "metadata": {
        "id": "0IK4ZBrSuwYe"
      },
      "source": [
        "a=df.height.min()"
      ],
      "execution_count": null,
      "outputs": []
    },
    {
      "cell_type": "code",
      "metadata": {
        "id": "GP6QJkvpuVI5"
      },
      "source": [
        "b=df.height.max()"
      ],
      "execution_count": null,
      "outputs": []
    },
    {
      "cell_type": "code",
      "metadata": {
        "colab": {
          "base_uri": "https://localhost:8080/",
          "height": 296
        },
        "id": "vUOnOAzKvBg7",
        "outputId": "2bef8f35-5363-4d1c-c047-8502046181cc"
      },
      "source": [
        "\n",
        "plt.hist(df.height,bins=20,rwidth=0.8,density=True)\n",
        "plt.xlabel('height(inches)')\n",
        "plt.ylabel('count')\n",
        "rng=np.arange(a,b,0.1)\n",
        "plt.plot(rng,norm.pdf(rng,df.height.mean(),df.height.std()))"
      ],
      "execution_count": null,
      "outputs": [
        {
          "output_type": "execute_result",
          "data": {
            "text/plain": [
              "[<matplotlib.lines.Line2D at 0x7fa3ce571810>]"
            ]
          },
          "metadata": {
            "tags": []
          },
          "execution_count": 33
        },
        {
          "output_type": "display_data",
          "data": {
            "image/png": "[encoded data removed]",
            "text/plain": [
              "<Figure size 432x288 with 1 Axes>"
            ]
          },
          "metadata": {
            "tags": [],
            "needs_background": "light"
          }
        }
      ]
    },
    {
      "cell_type": "code",
      "metadata": {
        "id": "7K00NjoJxXS1"
      },
      "source": [
        "  uper_limit=df.height.mean()+3*df.height.std()"
      ],
      "execution_count": null,
      "outputs": []
    },
    {
      "cell_type": "code",
      "metadata": {
        "colab": {
          "base_uri": "https://localhost:8080/"
        },
        "id": "LZfbSfND3fEo",
        "outputId": "8bbe9567-76e3-4b7c-d869-f3dfa1c81e0c"
      },
      "source": [
        "uper_limit"
      ],
      "execution_count": null,
      "outputs": [
        {
          "output_type": "execute_result",
          "data": {
            "text/plain": [
              "77.91014411725232"
            ]
          },
          "metadata": {
            "tags": []
          },
          "execution_count": 35
        }
      ]
    },
    {
      "cell_type": "code",
      "metadata": {
        "colab": {
          "base_uri": "https://localhost:8080/"
        },
        "id": "C0Fl_Dvp3grh",
        "outputId": "2afb8929-b011-4cd8-d1f9-e7ded4bc7b3d"
      },
      "source": [
        "lower_limit=df.height.mean()-3*df.height.std()\n",
        "lower_limit"
      ],
      "execution_count": null,
      "outputs": [
        {
          "output_type": "execute_result",
          "data": {
            "text/plain": [
              "54.824975392478876"
            ]
          },
          "metadata": {
            "tags": []
          },
          "execution_count": 37
        }
      ]
    },
    {
      "cell_type": "code",
      "metadata": {
        "colab": {
          "base_uri": "https://localhost:8080/",
          "height": 266
        },
        "id": "9WMfG94T3npH",
        "outputId": "154e733d-c162-416a-c426-02ab927773b3"
      },
      "source": [
        "outlier=df[(df.height<lower_limit)|(df.height>uper_limit)]\n",
        "outlier"
      ],
      "execution_count": null,
      "outputs": [
        {
          "output_type": "execute_result",
          "data": {
            "text/html": [
              "<div>\n",
              "<style scoped>\n",
              "    .dataframe tbody tr th:only-of-type {\n",
              "        vertical-align: middle;\n",
              "    }\n",
              "\n",
              "    .dataframe tbody tr th {\n",
              "        vertical-align: top;\n",
              "    }\n",
              "\n",
              "    .dataframe thead th {\n",
              "        text-align: right;\n",
              "    }\n",
              "</style>\n",
              "<table border=\"1\" class=\"dataframe\">\n",
              "  <thead>\n",
              "    <tr style=\"text-align: right;\">\n",
              "      <th></th>\n",
              "      <th>gender</th>\n",
              "      <th>height</th>\n",
              "    </tr>\n",
              "  </thead>\n",
              "  <tbody>\n",
              "    <tr>\n",
              "      <th>994</th>\n",
              "      <td>Male</td>\n",
              "      <td>78.095867</td>\n",
              "    </tr>\n",
              "    <tr>\n",
              "      <th>1317</th>\n",
              "      <td>Male</td>\n",
              "      <td>78.462053</td>\n",
              "    </tr>\n",
              "    <tr>\n",
              "      <th>2014</th>\n",
              "      <td>Male</td>\n",
              "      <td>78.998742</td>\n",
              "    </tr>\n",
              "    <tr>\n",
              "      <th>3285</th>\n",
              "      <td>Male</td>\n",
              "      <td>78.528210</td>\n",
              "    </tr>\n",
              "    <tr>\n",
              "      <th>3757</th>\n",
              "      <td>Male</td>\n",
              "      <td>78.621374</td>\n",
              "    </tr>\n",
              "    <tr>\n",
              "      <th>6624</th>\n",
              "      <td>Female</td>\n",
              "      <td>54.616858</td>\n",
              "    </tr>\n",
              "    <tr>\n",
              "      <th>9285</th>\n",
              "      <td>Female</td>\n",
              "      <td>54.263133</td>\n",
              "    </tr>\n",
              "  </tbody>\n",
              "</table>\n",
              "</div>"
            ],
            "text/plain": [
              "      gender     height\n",
              "994     Male  78.095867\n",
              "1317    Male  78.462053\n",
              "2014    Male  78.998742\n",
              "3285    Male  78.528210\n",
              "3757    Male  78.621374\n",
              "6624  Female  54.616858\n",
              "9285  Female  54.263133"
            ]
          },
          "metadata": {
            "tags": []
          },
          "execution_count": 39
        }
      ]
    },
    {
      "cell_type": "code",
      "metadata": {
        "colab": {
          "base_uri": "https://localhost:8080/",
          "height": 419
        },
        "id": "zopbdSVJ4Eyi",
        "outputId": "87b084cf-1fb0-4570-b3c8-eef2acc832bc"
      },
      "source": [
        "df2=df[(df.height>lower_limit)&(df.height<uper_limit)]\n",
        "df2"
      ],
      "execution_count": null,
      "outputs": [
        {
          "output_type": "execute_result",
          "data": {
            "text/html": [
              "<div>\n",
              "<style scoped>\n",
              "    .dataframe tbody tr th:only-of-type {\n",
              "        vertical-align: middle;\n",
              "    }\n",
              "\n",
              "    .dataframe tbody tr th {\n",
              "        vertical-align: top;\n",
              "    }\n",
              "\n",
              "    .dataframe thead th {\n",
              "        text-align: right;\n",
              "    }\n",
              "</style>\n",
              "<table border=\"1\" class=\"dataframe\">\n",
              "  <thead>\n",
              "    <tr style=\"text-align: right;\">\n",
              "      <th></th>\n",
              "      <th>gender</th>\n",
              "      <th>height</th>\n",
              "    </tr>\n",
              "  </thead>\n",
              "  <tbody>\n",
              "    <tr>\n",
              "      <th>0</th>\n",
              "      <td>Male</td>\n",
              "      <td>73.847017</td>\n",
              "    </tr>\n",
              "    <tr>\n",
              "      <th>1</th>\n",
              "      <td>Male</td>\n",
              "      <td>68.781904</td>\n",
              "    </tr>\n",
              "    <tr>\n",
              "      <th>2</th>\n",
              "      <td>Male</td>\n",
              "      <td>74.110105</td>\n",
              "    </tr>\n",
              "    <tr>\n",
              "      <th>3</th>\n",
              "      <td>Male</td>\n",
              "      <td>71.730978</td>\n",
              "    </tr>\n",
              "    <tr>\n",
              "      <th>4</th>\n",
              "      <td>Male</td>\n",
              "      <td>69.881796</td>\n",
              "    </tr>\n",
              "    <tr>\n",
              "      <th>...</th>\n",
              "      <td>...</td>\n",
              "      <td>...</td>\n",
              "    </tr>\n",
              "    <tr>\n",
              "      <th>9995</th>\n",
              "      <td>Female</td>\n",
              "      <td>66.172652</td>\n",
              "    </tr>\n",
              "    <tr>\n",
              "      <th>9996</th>\n",
              "      <td>Female</td>\n",
              "      <td>67.067155</td>\n",
              "    </tr>\n",
              "    <tr>\n",
              "      <th>9997</th>\n",
              "      <td>Female</td>\n",
              "      <td>63.867992</td>\n",
              "    </tr>\n",
              "    <tr>\n",
              "      <th>9998</th>\n",
              "      <td>Female</td>\n",
              "      <td>69.034243</td>\n",
              "    </tr>\n",
              "    <tr>\n",
              "      <th>9999</th>\n",
              "      <td>Female</td>\n",
              "      <td>61.944246</td>\n",
              "    </tr>\n",
              "  </tbody>\n",
              "</table>\n",
              "<p>9993 rows × 2 columns</p>\n",
              "</div>"
            ],
            "text/plain": [
              "      gender     height\n",
              "0       Male  73.847017\n",
              "1       Male  68.781904\n",
              "2       Male  74.110105\n",
              "3       Male  71.730978\n",
              "4       Male  69.881796\n",
              "...      ...        ...\n",
              "9995  Female  66.172652\n",
              "9996  Female  67.067155\n",
              "9997  Female  63.867992\n",
              "9998  Female  69.034243\n",
              "9999  Female  61.944246\n",
              "\n",
              "[9993 rows x 2 columns]"
            ]
          },
          "metadata": {
            "tags": []
          },
          "execution_count": 40
        }
      ]
    },
    {
      "cell_type": "code",
      "metadata": {
        "id": "ahDJalSu4elV"
      },
      "source": [
        "df3=df2.to_csv('outlier_remove',index=False)"
      ],
      "execution_count": null,
      "outputs": []
    },
    {
      "cell_type": "code",
      "metadata": {
        "id": "mWlsoWXl5e4e"
      },
      "source": [
        "df3"
      ],
      "execution_count": null,
      "outputs": []
    },
    {
      "cell_type": "markdown",
      "metadata": {
        "id": "RgdJQ9czDb5r"
      },
      "source": [
        "# Remove outlier using z score"
      ]
    },
    {
      "cell_type": "markdown",
      "metadata": {
        "id": "iN_4XlZUEDhy"
      },
      "source": [
        "![download (1).png](data:image/png;base64,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)"
      ]
    },
    {
      "cell_type": "code",
      "metadata": {
        "id": "W4ID03Y5Etfl"
      },
      "source": [
        "df=pd.read_csv('https://raw.githubusercontent.com/codebasics/py/master/ML/FeatureEngineering/2_outliers_z_score/heights.csv')"
      ],
      "execution_count": null,
      "outputs": []
    },
    {
      "cell_type": "code",
      "metadata": {
        "colab": {
          "base_uri": "https://localhost:8080/",
          "height": 204
        },
        "id": "kkG9fgGqD5LM",
        "outputId": "f9f6f7b6-abe0-4fbf-e618-29e3bb98b794"
      },
      "source": [
        "df['zscore']=(df.height-df.height.mean())/df.height.std()\n",
        "df.head()"
      ],
      "execution_count": null,
      "outputs": [
        {
          "output_type": "execute_result",
          "data": {
            "text/html": [
              "<div>\n",
              "<style scoped>\n",
              "    .dataframe tbody tr th:only-of-type {\n",
              "        vertical-align: middle;\n",
              "    }\n",
              "\n",
              "    .dataframe tbody tr th {\n",
              "        vertical-align: top;\n",
              "    }\n",
              "\n",
              "    .dataframe thead th {\n",
              "        text-align: right;\n",
              "    }\n",
              "</style>\n",
              "<table border=\"1\" class=\"dataframe\">\n",
              "  <thead>\n",
              "    <tr style=\"text-align: right;\">\n",
              "      <th></th>\n",
              "      <th>gender</th>\n",
              "      <th>height</th>\n",
              "      <th>zscore</th>\n",
              "    </tr>\n",
              "  </thead>\n",
              "  <tbody>\n",
              "    <tr>\n",
              "      <th>0</th>\n",
              "      <td>Male</td>\n",
              "      <td>73.847017</td>\n",
              "      <td>1.943964</td>\n",
              "    </tr>\n",
              "    <tr>\n",
              "      <th>1</th>\n",
              "      <td>Male</td>\n",
              "      <td>68.781904</td>\n",
              "      <td>0.627505</td>\n",
              "    </tr>\n",
              "    <tr>\n",
              "      <th>2</th>\n",
              "      <td>Male</td>\n",
              "      <td>74.110105</td>\n",
              "      <td>2.012343</td>\n",
              "    </tr>\n",
              "    <tr>\n",
              "      <th>3</th>\n",
              "      <td>Male</td>\n",
              "      <td>71.730978</td>\n",
              "      <td>1.393991</td>\n",
              "    </tr>\n",
              "    <tr>\n",
              "      <th>4</th>\n",
              "      <td>Male</td>\n",
              "      <td>69.881796</td>\n",
              "      <td>0.913375</td>\n",
              "    </tr>\n",
              "  </tbody>\n",
              "</table>\n",
              "</div>"
            ],
            "text/plain": [
              "  gender     height    zscore\n",
              "0   Male  73.847017  1.943964\n",
              "1   Male  68.781904  0.627505\n",
              "2   Male  74.110105  2.012343\n",
              "3   Male  71.730978  1.393991\n",
              "4   Male  69.881796  0.913375"
            ]
          },
          "metadata": {
            "tags": []
          },
          "execution_count": 50
        }
      ]
    },
    {
      "cell_type": "code",
      "metadata": {
        "colab": {
          "base_uri": "https://localhost:8080/",
          "height": 204
        },
        "id": "UCjVIFv8E4gv",
        "outputId": "f18d72be-be96-495f-fd95-0a6c8f6b8eb5"
      },
      "source": [
        "df[df.zscore>3]"
      ],
      "execution_count": null,
      "outputs": [
        {
          "output_type": "execute_result",
          "data": {
            "text/html": [
              "<div>\n",
              "<style scoped>\n",
              "    .dataframe tbody tr th:only-of-type {\n",
              "        vertical-align: middle;\n",
              "    }\n",
              "\n",
              "    .dataframe tbody tr th {\n",
              "        vertical-align: top;\n",
              "    }\n",
              "\n",
              "    .dataframe thead th {\n",
              "        text-align: right;\n",
              "    }\n",
              "</style>\n",
              "<table border=\"1\" class=\"dataframe\">\n",
              "  <thead>\n",
              "    <tr style=\"text-align: right;\">\n",
              "      <th></th>\n",
              "      <th>gender</th>\n",
              "      <th>height</th>\n",
              "      <th>zscore</th>\n",
              "    </tr>\n",
              "  </thead>\n",
              "  <tbody>\n",
              "    <tr>\n",
              "      <th>994</th>\n",
              "      <td>Male</td>\n",
              "      <td>78.095867</td>\n",
              "      <td>3.048271</td>\n",
              "    </tr>\n",
              "    <tr>\n",
              "      <th>1317</th>\n",
              "      <td>Male</td>\n",
              "      <td>78.462053</td>\n",
              "      <td>3.143445</td>\n",
              "    </tr>\n",
              "    <tr>\n",
              "      <th>2014</th>\n",
              "      <td>Male</td>\n",
              "      <td>78.998742</td>\n",
              "      <td>3.282934</td>\n",
              "    </tr>\n",
              "    <tr>\n",
              "      <th>3285</th>\n",
              "      <td>Male</td>\n",
              "      <td>78.528210</td>\n",
              "      <td>3.160640</td>\n",
              "    </tr>\n",
              "    <tr>\n",
              "      <th>3757</th>\n",
              "      <td>Male</td>\n",
              "      <td>78.621374</td>\n",
              "      <td>3.184854</td>\n",
              "    </tr>\n",
              "  </tbody>\n",
              "</table>\n",
              "</div>"
            ],
            "text/plain": [
              "     gender     height    zscore\n",
              "994    Male  78.095867  3.048271\n",
              "1317   Male  78.462053  3.143445\n",
              "2014   Male  78.998742  3.282934\n",
              "3285   Male  78.528210  3.160640\n",
              "3757   Male  78.621374  3.184854"
            ]
          },
          "metadata": {
            "tags": []
          },
          "execution_count": 51
        }
      ]
    },
    {
      "cell_type": "code",
      "metadata": {
        "colab": {
          "base_uri": "https://localhost:8080/",
          "height": 111
        },
        "id": "zqn-3aIYFeeX",
        "outputId": "a020403a-f437-47e7-ce90-90aa4bebf773"
      },
      "source": [
        "df[df.zscore<-3]"
      ],
      "execution_count": null,
      "outputs": [
        {
          "output_type": "execute_result",
          "data": {
            "text/html": [
              "<div>\n",
              "<style scoped>\n",
              "    .dataframe tbody tr th:only-of-type {\n",
              "        vertical-align: middle;\n",
              "    }\n",
              "\n",
              "    .dataframe tbody tr th {\n",
              "        vertical-align: top;\n",
              "    }\n",
              "\n",
              "    .dataframe thead th {\n",
              "        text-align: right;\n",
              "    }\n",
              "</style>\n",
              "<table border=\"1\" class=\"dataframe\">\n",
              "  <thead>\n",
              "    <tr style=\"text-align: right;\">\n",
              "      <th></th>\n",
              "      <th>gender</th>\n",
              "      <th>height</th>\n",
              "      <th>zscore</th>\n",
              "    </tr>\n",
              "  </thead>\n",
              "  <tbody>\n",
              "    <tr>\n",
              "      <th>6624</th>\n",
              "      <td>Female</td>\n",
              "      <td>54.616858</td>\n",
              "      <td>-3.054091</td>\n",
              "    </tr>\n",
              "    <tr>\n",
              "      <th>9285</th>\n",
              "      <td>Female</td>\n",
              "      <td>54.263133</td>\n",
              "      <td>-3.146027</td>\n",
              "    </tr>\n",
              "  </tbody>\n",
              "</table>\n",
              "</div>"
            ],
            "text/plain": [
              "      gender     height    zscore\n",
              "6624  Female  54.616858 -3.054091\n",
              "9285  Female  54.263133 -3.146027"
            ]
          },
          "metadata": {
            "tags": []
          },
          "execution_count": 53
        }
      ]
    },
    {
      "cell_type": "code",
      "metadata": {
        "colab": {
          "base_uri": "https://localhost:8080/",
          "height": 266
        },
        "id": "iqFyr8CCG932",
        "outputId": "7a3f5bf9-5e49-4bcb-c812-27de7ab06888"
      },
      "source": [
        "df[(df.zscore<-3)|(df.zscore>3)]"
      ],
      "execution_count": null,
      "outputs": [
        {
          "output_type": "execute_result",
          "data": {
            "text/html": [
              "<div>\n",
              "<style scoped>\n",
              "    .dataframe tbody tr th:only-of-type {\n",
              "        vertical-align: middle;\n",
              "    }\n",
              "\n",
              "    .dataframe tbody tr th {\n",
              "        vertical-align: top;\n",
              "    }\n",
              "\n",
              "    .dataframe thead th {\n",
              "        text-align: right;\n",
              "    }\n",
              "</style>\n",
              "<table border=\"1\" class=\"dataframe\">\n",
              "  <thead>\n",
              "    <tr style=\"text-align: right;\">\n",
              "      <th></th>\n",
              "      <th>gender</th>\n",
              "      <th>height</th>\n",
              "      <th>zscore</th>\n",
              "    </tr>\n",
              "  </thead>\n",
              "  <tbody>\n",
              "    <tr>\n",
              "      <th>994</th>\n",
              "      <td>Male</td>\n",
              "      <td>78.095867</td>\n",
              "      <td>3.048271</td>\n",
              "    </tr>\n",
              "    <tr>\n",
              "      <th>1317</th>\n",
              "      <td>Male</td>\n",
              "      <td>78.462053</td>\n",
              "      <td>3.143445</td>\n",
              "    </tr>\n",
              "    <tr>\n",
              "      <th>2014</th>\n",
              "      <td>Male</td>\n",
              "      <td>78.998742</td>\n",
              "      <td>3.282934</td>\n",
              "    </tr>\n",
              "    <tr>\n",
              "      <th>3285</th>\n",
              "      <td>Male</td>\n",
              "      <td>78.528210</td>\n",
              "      <td>3.160640</td>\n",
              "    </tr>\n",
              "    <tr>\n",
              "      <th>3757</th>\n",
              "      <td>Male</td>\n",
              "      <td>78.621374</td>\n",
              "      <td>3.184854</td>\n",
              "    </tr>\n",
              "    <tr>\n",
              "      <th>6624</th>\n",
              "      <td>Female</td>\n",
              "      <td>54.616858</td>\n",
              "      <td>-3.054091</td>\n",
              "    </tr>\n",
              "    <tr>\n",
              "      <th>9285</th>\n",
              "      <td>Female</td>\n",
              "      <td>54.263133</td>\n",
              "      <td>-3.146027</td>\n",
              "    </tr>\n",
              "  </tbody>\n",
              "</table>\n",
              "</div>"
            ],
            "text/plain": [
              "      gender     height    zscore\n",
              "994     Male  78.095867  3.048271\n",
              "1317    Male  78.462053  3.143445\n",
              "2014    Male  78.998742  3.282934\n",
              "3285    Male  78.528210  3.160640\n",
              "3757    Male  78.621374  3.184854\n",
              "6624  Female  54.616858 -3.054091\n",
              "9285  Female  54.263133 -3.146027"
            ]
          },
          "metadata": {
            "tags": []
          },
          "execution_count": 54
        }
      ]
    },
    {
      "cell_type": "code",
      "metadata": {
        "colab": {
          "base_uri": "https://localhost:8080/",
          "height": 419
        },
        "id": "2p1xZrFnQ0ar",
        "outputId": "46600d65-f458-40c2-e51a-38b51f98cc29"
      },
      "source": [
        "df[(df.zscore>-3)&(df.zscore<3)]"
      ],
      "execution_count": null,
      "outputs": [
        {
          "output_type": "execute_result",
          "data": {
            "text/html": [
              "<div>\n",
              "<style scoped>\n",
              "    .dataframe tbody tr th:only-of-type {\n",
              "        vertical-align: middle;\n",
              "    }\n",
              "\n",
              "    .dataframe tbody tr th {\n",
              "        vertical-align: top;\n",
              "    }\n",
              "\n",
              "    .dataframe thead th {\n",
              "        text-align: right;\n",
              "    }\n",
              "</style>\n",
              "<table border=\"1\" class=\"dataframe\">\n",
              "  <thead>\n",
              "    <tr style=\"text-align: right;\">\n",
              "      <th></th>\n",
              "      <th>gender</th>\n",
              "      <th>height</th>\n",
              "      <th>zscore</th>\n",
              "    </tr>\n",
              "  </thead>\n",
              "  <tbody>\n",
              "    <tr>\n",
              "      <th>0</th>\n",
              "      <td>Male</td>\n",
              "      <td>73.847017</td>\n",
              "      <td>1.943964</td>\n",
              "    </tr>\n",
              "    <tr>\n",
              "      <th>1</th>\n",
              "      <td>Male</td>\n",
              "      <td>68.781904</td>\n",
              "      <td>0.627505</td>\n",
              "    </tr>\n",
              "    <tr>\n",
              "      <th>2</th>\n",
              "      <td>Male</td>\n",
              "      <td>74.110105</td>\n",
              "      <td>2.012343</td>\n",
              "    </tr>\n",
              "    <tr>\n",
              "      <th>3</th>\n",
              "      <td>Male</td>\n",
              "      <td>71.730978</td>\n",
              "      <td>1.393991</td>\n",
              "    </tr>\n",
              "    <tr>\n",
              "      <th>4</th>\n",
              "      <td>Male</td>\n",
              "      <td>69.881796</td>\n",
              "      <td>0.913375</td>\n",
              "    </tr>\n",
              "    <tr>\n",
              "      <th>...</th>\n",
              "      <td>...</td>\n",
              "      <td>...</td>\n",
              "      <td>...</td>\n",
              "    </tr>\n",
              "    <tr>\n",
              "      <th>9995</th>\n",
              "      <td>Female</td>\n",
              "      <td>66.172652</td>\n",
              "      <td>-0.050658</td>\n",
              "    </tr>\n",
              "    <tr>\n",
              "      <th>9996</th>\n",
              "      <td>Female</td>\n",
              "      <td>67.067155</td>\n",
              "      <td>0.181830</td>\n",
              "    </tr>\n",
              "    <tr>\n",
              "      <th>9997</th>\n",
              "      <td>Female</td>\n",
              "      <td>63.867992</td>\n",
              "      <td>-0.649655</td>\n",
              "    </tr>\n",
              "    <tr>\n",
              "      <th>9998</th>\n",
              "      <td>Female</td>\n",
              "      <td>69.034243</td>\n",
              "      <td>0.693090</td>\n",
              "    </tr>\n",
              "    <tr>\n",
              "      <th>9999</th>\n",
              "      <td>Female</td>\n",
              "      <td>61.944246</td>\n",
              "      <td>-1.149651</td>\n",
              "    </tr>\n",
              "  </tbody>\n",
              "</table>\n",
              "<p>9993 rows × 3 columns</p>\n",
              "</div>"
            ],
            "text/plain": [
              "      gender     height    zscore\n",
              "0       Male  73.847017  1.943964\n",
              "1       Male  68.781904  0.627505\n",
              "2       Male  74.110105  2.012343\n",
              "3       Male  71.730978  1.393991\n",
              "4       Male  69.881796  0.913375\n",
              "...      ...        ...       ...\n",
              "9995  Female  66.172652 -0.050658\n",
              "9996  Female  67.067155  0.181830\n",
              "9997  Female  63.867992 -0.649655\n",
              "9998  Female  69.034243  0.693090\n",
              "9999  Female  61.944246 -1.149651\n",
              "\n",
              "[9993 rows x 3 columns]"
            ]
          },
          "metadata": {
            "tags": []
          },
          "execution_count": 55
        }
      ]
    },
    {
      "cell_type": "code",
      "metadata": {
        "id": "C07GpaQbRINJ"
      },
      "source": [
        ""
      ],
      "execution_count": null,
      "outputs": []
    }
  ]
}